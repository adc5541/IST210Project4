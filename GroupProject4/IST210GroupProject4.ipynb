{
 "cells": [
  {
   "cell_type": "markdown",
   "metadata": {
    "colab_type": "text",
    "id": "ZYHNufMYaHK7"
   },
   "source": [
    "![](Images/ERDiagramProject4.png)"
   ]
  },
  {
   "cell_type": "code",
   "execution_count": 0,
   "metadata": {
    "colab": {},
    "colab_type": "code",
    "id": "RmqgdPJyC5XY"
   },
   "outputs": [],
   "source": [
    "import sqlite3\n",
    "\n",
    "connectionToDatabase = sqlite3.connect('ChelseaSoccerStadium') \n",
    "cursor = connectionToDatabase.cursor()"
   ]
  },
  {
   "cell_type": "code",
   "execution_count": 0,
   "metadata": {
    "colab": {},
    "colab_type": "code",
    "id": "hwn89M-JXijr"
   },
   "outputs": [],
   "source": [
    "#drops game table if exists\n",
    "cursor.execute('''drop table IF EXISTS game''')\n",
    "connectionToDatabase.commit()"
   ]
  },
  {
   "cell_type": "code",
   "execution_count": 0,
   "metadata": {
    "colab": {},
    "colab_type": "code",
    "id": "PQFcVKZzXtcl"
   },
   "outputs": [],
   "source": [
    "#creates game table\n",
    "cursor.execute('''create table game (gameID text PRIMARY KEY, opponentID text, dateID text, gameTime text)''')\n",
    "connectionToDatabase.commit()"
   ]
  },
  {
   "cell_type": "code",
   "execution_count": 0,
   "metadata": {
    "colab": {},
    "colab_type": "code",
    "id": "HeZ6Oxw8Ymfm"
   },
   "outputs": [],
   "source": [
    "#inserts data into game table\n",
    "gameID = [1,2,3,4,5]\n",
    "opponentID = [\"Arsenal\", \"Manchester United\", \"Liverpool\", \"Aston Villa\", \"West Ham\"]\n",
    "dateID = [\"10/26/19\", \"10/30/19\", \"11/4/19\", \"11/14/2019\", \"11/23/19\"] \n",
    "gameTime = [\"7:00pm\", \"3:00pm\", \"11:00am\", \"7:00pm\", \"1:30pm\"]\n",
    "\n",
    "for i in range(len(gameID)):\n",
    "  g = gameID[i]\n",
    "  o = opponentID[i]\n",
    "  d = dateID[i]\n",
    "  t = gameTime[i]\n",
    "  insertStatement =  \"\"\"insert into game values (\"%s\",\"%s\",\"%s\",\"%s\")\"\"\" % (g,o, d, t)\n",
    "  cursor.execute(insertStatement)\n",
    "  connectionToDatabase.commit() # remember to commit!"
   ]
  },
  {
   "cell_type": "code",
   "execution_count": 0,
   "metadata": {
    "colab": {
     "base_uri": "https://localhost:8080/",
     "height": 103
    },
    "colab_type": "code",
    "id": "f6oEaE8FYu6E",
    "outputId": "d09efd6a-bd80-487b-b5d3-e2dd4f208de2"
   },
   "outputs": [
    {
     "name": "stdout",
     "output_type": "stream",
     "text": [
      "('1', 'Arsenal', '10/26/19', '7:00pm')\n",
      "('2', 'Manchester United', '10/30/19', '3:00pm')\n",
      "('3', 'Liverpool', '11/4/19', '11:00am')\n",
      "('4', 'Aston Villa', '11/14/2019', '7:00pm')\n",
      "('5', 'West Ham', '11/23/19', '1:30pm')\n"
     ]
    }
   ],
   "source": [
    "#prints data from game\n",
    "cursor.execute('''select * from Game''')\n",
    "for row in cursor.fetchall():\n",
    "  print (row)"
   ]
  },
  {
   "cell_type": "code",
   "execution_count": 0,
   "metadata": {
    "colab": {},
    "colab_type": "code",
    "id": "Psb-SI9rcQ_-"
   },
   "outputs": [],
   "source": [
    "#drop ticket table if it exists\n",
    "cursor.execute('''drop table IF EXISTS tickets''')\n",
    "connectionToDatabase.commit()"
   ]
  },
  {
   "cell_type": "code",
   "execution_count": 0,
   "metadata": {
    "colab": {},
    "colab_type": "code",
    "id": "DlaEZ4MOYrn1"
   },
   "outputs": [],
   "source": [
    "#creates tickets table\n",
    "cursor.execute('''create table tickets (ticketID text PRIMARY KEY, gameID text, seatNum text, status text, price real )''')\n",
    "connectionToDatabase.commit()"
   ]
  },
  {
   "cell_type": "code",
   "execution_count": 0,
   "metadata": {
    "colab": {},
    "colab_type": "code",
    "id": "PJY-_6TuLXL6"
   },
   "outputs": [],
   "source": [
    "#inserts data into ticket table\n",
    "ticketID = [\"1:6\", \"1:406\", \"2:406\", \"4:15\", \"3:168\", \"1:9863\", \"1:847\", \"1:1976\"]\n",
    "gameID = [\"1\", \"1\", \"2\", \"4\", \"3\", \"1\", \"1\", \"1\"]\n",
    "seatNum = [\"6\", \"406\", \"406\", \"15\", \"168\", \"9863\", \"847\", \"1976\"]\n",
    "status = [\"Sold\", \"NotSold\", \"NotSold\", \"Sold\", \"Sold\", \"Sold\", \"Sold\", \"Sold\"]\n",
    "price = [55, 63.50, 40, 98, 85, 40, 50, 75]\n",
    "for i in range(len(ticketID)):\n",
    "  t = ticketID[i]\n",
    "  g = gameID[i]\n",
    "  s = seatNum[i]\n",
    "  st = status[i]\n",
    "  p = price[i]\n",
    "  insertStatement =  \"\"\"insert into tickets values (\"%s\",\"%s\",\"%s\",\"%s\",\"%s\")\"\"\" % (t, g, s, st, p)\n",
    "  cursor.execute(insertStatement)\n",
    "  connectionToDatabase.commit() # remember to commit!"
   ]
  },
  {
   "cell_type": "code",
   "execution_count": 0,
   "metadata": {
    "colab": {
     "base_uri": "https://localhost:8080/",
     "height": 155
    },
    "colab_type": "code",
    "id": "QNiB2eLPgvRa",
    "outputId": "3a187aed-45b5-40f6-9e4f-fb62c5f56648"
   },
   "outputs": [
    {
     "name": "stdout",
     "output_type": "stream",
     "text": [
      "('1:6', '1', '6', 'Sold', 55.0)\n",
      "('1:406', '1', '406', 'NotSold', 63.5)\n",
      "('2:406', '2', '406', 'NotSold', 40.0)\n",
      "('4:15', '4', '15', 'Sold', 98.0)\n",
      "('3:168', '3', '168', 'Sold', 85.0)\n",
      "('1:9863', '1', '9863', 'Sold', 40.0)\n",
      "('1:847', '1', '847', 'Sold', 50.0)\n",
      "('1:1976', '1', '1976', 'Sold', 75.0)\n"
     ]
    }
   ],
   "source": [
    "#prints data from tickets table\n",
    "cursor.execute('''select * from tickets''')\n",
    "for row in cursor.fetchall():\n",
    "  print (row)"
   ]
  },
  {
   "cell_type": "code",
   "execution_count": 0,
   "metadata": {
    "colab": {},
    "colab_type": "code",
    "id": "3wiE-RbSg6WY"
   },
   "outputs": [],
   "source": [
    "#creates transaction table\n",
    "cursor.execute('''drop table IF EXISTS transact''') \n",
    "connectionToDatabase.commit()\n",
    "cursor.execute('''create table transact (transactionID text PRIMARY KEY, ticketID text, Customer text, PurchasePrice REAL )''') #transaction is a reserved variable in sql, so we used transact.\n",
    "connectionToDatabase.commit()"
   ]
  },
  {
   "cell_type": "code",
   "execution_count": 0,
   "metadata": {
    "colab": {},
    "colab_type": "code",
    "id": "EMkPAUNMIXtK"
   },
   "outputs": [],
   "source": [
    "#insert data into transaction table\n",
    "transactionID = [\"1\", \"2\", \"3\", \"4\", \"5\", \"6\"]\n",
    "ticketID = [\"1:6\", \"4:15\", \"3:168\", \"1:9863\", \"1:847\", \"1:1976\" ]\n",
    "customer = [\"Steve\", \"Maggie\", \"Alex\", \"Johnson\", \"Yaowen\", \"Alex\"]\n",
    "purchasePrice = [55, 98, 85, 40, 50, 75]\n",
    "for i in range(len(ticketID)):\n",
    "  tr = transactionID[i]\n",
    "  t = ticketID[i]\n",
    "  c = customer[i]\n",
    "  p = purchasePrice[i]\n",
    "  insertStatement =  \"\"\"insert into transact values (\"%s\",\"%s\",\"%s\",\"%s\")\"\"\" % (tr, t, c, p)\n",
    "  cursor.execute(insertStatement)\n",
    "  connectionToDatabase.commit()"
   ]
  },
  {
   "cell_type": "code",
   "execution_count": 0,
   "metadata": {
    "colab": {
     "base_uri": "https://localhost:8080/",
     "height": 120
    },
    "colab_type": "code",
    "id": "tt23jyHIkAAt",
    "outputId": "893dca62-a9a1-4640-851b-86ba8c7f5fcf"
   },
   "outputs": [
    {
     "name": "stdout",
     "output_type": "stream",
     "text": [
      "('1', '1:6', 'Steve', 55.0)\n",
      "('2', '4:15', 'Maggie', 98.0)\n",
      "('3', '3:168', 'Alex', 85.0)\n",
      "('4', '1:9863', 'Johnson', 40.0)\n",
      "('5', '1:847', 'Yaowen', 50.0)\n",
      "('6', '1:1976', 'Alex', 75.0)\n"
     ]
    }
   ],
   "source": [
    "#prints data from transaction table\n",
    "cursor.execute('''select * from transact''')\n",
    "for row in cursor.fetchall():\n",
    "  print (row)"
   ]
  },
  {
   "cell_type": "code",
   "execution_count": 0,
   "metadata": {
    "colab": {},
    "colab_type": "code",
    "id": "s6U87eqBkSFg"
   },
   "outputs": [],
   "source": [
    "#creates opponent table\n",
    "cursor.execute('''drop table IF EXISTS opponent''')\n",
    "connectionToDatabase.commit()\n",
    "cursor.execute('''create table opponent (opponentID text PRIMARY KEY, record text, rival text)''')\n",
    "connectionToDatabase.commit()"
   ]
  },
  {
   "cell_type": "code",
   "execution_count": 0,
   "metadata": {
    "colab": {},
    "colab_type": "code",
    "id": "dU786T66knuo"
   },
   "outputs": [],
   "source": [
    "#inserts data into opponent table\n",
    "opponentID = [\"Arsenal\", \"Manchester United\", \"Liverpool\", \"Aston Villa\", \"West Ham\"]\n",
    "record = [\"4-5-3\", \"4-4-4\", \"11-1-0\", \"3-2-7\", \"3-4-5\"]\n",
    "rival = [\"Rival\", \"Rival\", \"Non-Rival\", \"Non-Rival\", \"Non-Rival\"]\n",
    "for i in range(len(opponentID)):\n",
    "  o = opponentID[i]\n",
    "  r = record[i]\n",
    "  ri = rival[i]\n",
    "  insertStatement =  \"\"\"insert into opponent values (\"%s\",\"%s\",\"%s\")\"\"\" % (o, r, ri)\n",
    "  cursor.execute(insertStatement)\n",
    "  connectionToDatabase.commit()"
   ]
  },
  {
   "cell_type": "code",
   "execution_count": 0,
   "metadata": {
    "colab": {
     "base_uri": "https://localhost:8080/",
     "height": 103
    },
    "colab_type": "code",
    "id": "RQoFxE_3mFld",
    "outputId": "9af208a5-bf90-4843-80df-a5f4d5bc6c7f"
   },
   "outputs": [
    {
     "name": "stdout",
     "output_type": "stream",
     "text": [
      "('Arsenal', '4-5-3', 'Rival')\n",
      "('Manchester United', '4-4-4', 'Rival')\n",
      "('Liverpool', '11-1-0', 'Non-Rival')\n",
      "('Aston Villa', '3-2-7', 'Non-Rival')\n",
      "('West Ham', '3-4-5', 'Non-Rival')\n"
     ]
    }
   ],
   "source": [
    "#prints data from opponent table\n",
    "cursor.execute('''select * from opponent''')\n",
    "for row in cursor.fetchall():\n",
    "  print (row)"
   ]
  },
  {
   "cell_type": "code",
   "execution_count": 0,
   "metadata": {
    "colab": {},
    "colab_type": "code",
    "id": "8olULSfVmLRg"
   },
   "outputs": [],
   "source": [
    "#creates date table\n",
    "cursor.execute('''drop table IF EXISTS date''')\n",
    "connectionToDatabase.commit()\n",
    "cursor.execute('''create table date (dateID text PRIMARY KEY, temperature int, weatherType text)''')\n",
    "connectionToDatabase.commit()"
   ]
  },
  {
   "cell_type": "code",
   "execution_count": 0,
   "metadata": {
    "colab": {},
    "colab_type": "code",
    "id": "jrWqszBfmc5V"
   },
   "outputs": [],
   "source": [
    "#insert data into date table\n",
    "dateID = [\"10/26/19\", \"10/30/19\", \"11/4/19\", \"11/14/2019\", \"11/23/19\"]\n",
    "temperature = [68, 54, 60, 40, 45]\n",
    "weatherType = [\"sunny\", \"overcast\", \"rain\", \"rain\", \"overcast\"]\n",
    "for i in range(len(dateID)):\n",
    "  d = dateID[i]\n",
    "  t = temperature[i]\n",
    "  w = weatherType[i]\n",
    "  insertStatement =  \"\"\"insert into date values (\"%s\",\"%s\",\"%s\")\"\"\" % (d, t, w)\n",
    "  cursor.execute(insertStatement)\n",
    "  connectionToDatabase.commit()"
   ]
  },
  {
   "cell_type": "code",
   "execution_count": 0,
   "metadata": {
    "colab": {
     "base_uri": "https://localhost:8080/",
     "height": 103
    },
    "colab_type": "code",
    "id": "g7wldJcknxRW",
    "outputId": "7c42aa7e-1396-47dd-808b-299990edf58f"
   },
   "outputs": [
    {
     "name": "stdout",
     "output_type": "stream",
     "text": [
      "('10/26/19', 68, 'sunny')\n",
      "('10/30/19', 54, 'overcast')\n",
      "('11/4/19', 60, 'rain')\n",
      "('11/14/2019', 40, 'rain')\n",
      "('11/23/19', 45, 'overcast')\n"
     ]
    }
   ],
   "source": [
    "#all info from date table\n",
    "cursor.execute('''select * from date''')\n",
    "for row in cursor.fetchall():\n",
    "  print (row)"
   ]
  },
  {
   "cell_type": "code",
   "execution_count": 0,
   "metadata": {
    "colab": {
     "base_uri": "https://localhost:8080/",
     "height": 602
    },
    "colab_type": "code",
    "id": "zmjGFaFBn772",
    "outputId": "0fa4b386-71a6-4c73-9134-46704114562d"
   },
   "outputs": [
    {
     "name": "stdout",
     "output_type": "stream",
     "text": [
      "Game Table\n",
      "('1', 'Arsenal', '10/26/19', '7:00pm')\n",
      "('2', 'Manchester United', '10/30/19', '3:00pm')\n",
      "('3', 'Liverpool', '11/4/19', '11:00am')\n",
      "('4', 'Aston Villa', '11/14/2019', '7:00pm')\n",
      "('5', 'West Ham', '11/23/19', '1:30pm')\n",
      "Tickets Table\n",
      "('1:6', '1', '6', 'Sold', 55.0)\n",
      "('1:406', '1', '406', 'NotSold', 63.5)\n",
      "('2:406', '2', '406', 'NotSold', 40.0)\n",
      "('4:15', '4', '15', 'Sold', 98.0)\n",
      "('3:168', '3', '168', 'Sold', 85.0)\n",
      "('1:9863', '1', '9863', 'Sold', 40.0)\n",
      "('1:847', '1', '847', 'Sold', 50.0)\n",
      "('1:1976', '1', '1976', 'Sold', 75.0)\n",
      "Transaction Table\n",
      "('1', '1:6', 'Steve', 55.0)\n",
      "('2', '4:15', 'Maggie', 98.0)\n",
      "('3', '3:168', 'Alex', 85.0)\n",
      "('4', '1:9863', 'Johnson', 40.0)\n",
      "('5', '1:847', 'Yaowen', 50.0)\n",
      "('6', '1:1976', 'Alex', 75.0)\n",
      "Opponent Table\n",
      "('Arsenal', '4-5-3', 'Rival')\n",
      "('Manchester United', '4-4-4', 'Rival')\n",
      "('Liverpool', '11-1-0', 'Non-Rival')\n",
      "('Aston Villa', '3-2-7', 'Non-Rival')\n",
      "('West Ham', '3-4-5', 'Non-Rival')\n",
      "Date Table\n",
      "('10/26/19', 68, 'sunny')\n",
      "('10/30/19', 54, 'overcast')\n",
      "('11/4/19', 60, 'rain')\n",
      "('11/14/2019', 40, 'rain')\n",
      "('11/23/19', 45, 'overcast')\n"
     ]
    }
   ],
   "source": [
    "#Gets all tables, this is check if all tables are working correctly.\n",
    "print(\"Game Table\")\n",
    "cursor.execute('''select * from Game''')\n",
    "for row in cursor.fetchall():\n",
    "  print (row)\n",
    "print(\"Tickets Table\")\n",
    "cursor.execute('''select * from tickets''')\n",
    "for row in cursor.fetchall():\n",
    "  print (row)\n",
    "print(\"Transaction Table\")\n",
    "cursor.execute('''select * from transact''')\n",
    "for row in cursor.fetchall():\n",
    "  print (row)\n",
    "print(\"Opponent Table\")\n",
    "cursor.execute('''select * from opponent''')\n",
    "for row in cursor.fetchall():\n",
    "  print (row)\n",
    "print(\"Date Table\")\n",
    "cursor.execute('''select * from date''')\n",
    "for row in cursor.fetchall():\n",
    "  print (row)  "
   ]
  },
  {
   "cell_type": "markdown",
   "metadata": {
    "colab_type": "text",
    "id": "fHbxaz3Jp5V2"
   },
   "source": [
    "How many tickets have been sold for each game?"
   ]
  },
  {
   "cell_type": "code",
   "execution_count": 0,
   "metadata": {
    "colab": {
     "base_uri": "https://localhost:8080/",
     "height": 69
    },
    "colab_type": "code",
    "id": "Jo6krjNZpE_j",
    "outputId": "8da252a3-e777-45e7-8fd6-e4c3fec12912"
   },
   "outputs": [
    {
     "name": "stdout",
     "output_type": "stream",
     "text": [
      "('1', 4)\n",
      "('3', 1)\n",
      "('4', 1)\n"
     ]
    }
   ],
   "source": [
    "cursor.execute('''select gameID, count(ticketID) from tickets where status = \"Sold\" group by gameID ''')\n",
    "for row in cursor.fetchall():\n",
    "  print (row)"
   ]
  },
  {
   "cell_type": "markdown",
   "metadata": {
    "colab_type": "text",
    "id": "Nr87cqt1eoGH"
   },
   "source": [
    "This question gives the soccer club the number of tickets sold for each game, therefor giving them the expected attendence for upcoming games. This lets them plan for the amount of staff and security they will need for each game. If they find a game that has low ticket sales, they may lower prices to increase sales. The data is as expected, in the transaction table 4 tickets have been sold for game 1 and 1 ticket for games 3 and 4.  "
   ]
  },
  {
   "cell_type": "markdown",
   "metadata": {
    "colab_type": "text",
    "id": "rgFobTGSqK1c"
   },
   "source": [
    "What is the average ticket price of sold tickets for each game?"
   ]
  },
  {
   "cell_type": "code",
   "execution_count": 0,
   "metadata": {
    "colab": {
     "base_uri": "https://localhost:8080/",
     "height": 69
    },
    "colab_type": "code",
    "id": "crzG92Q5qPtq",
    "outputId": "972b710c-53f7-423c-a2be-aa95a53f80e9"
   },
   "outputs": [
    {
     "name": "stdout",
     "output_type": "stream",
     "text": [
      "('1', 55.0)\n",
      "('3', 85.0)\n",
      "('4', 98.0)\n"
     ]
    }
   ],
   "source": [
    "cursor.execute(''' select ti.gameID, avg(tr.PurchasePrice) from tickets ti, transact tr where ti.ticketID = tr.TicketID group by ti.gameID ''')\n",
    "for row in cursor.fetchall():\n",
    "  print (row)"
   ]
  },
  {
   "cell_type": "markdown",
   "metadata": {
    "colab_type": "text",
    "id": "Xdh9Aes2eo5N"
   },
   "source": [
    "This question allows the owners of the soccer club to analyze the differecnce in the ticket prices of each game. This will allow owners to better adjust thier starting ticket prices in the future based on this information. They can notice trends in thier ticket pricces and better plan for the future. The data recieved from the query is as expected from the data entered. The average price for each game equals what can be manually calculated for the limited number of entries."
   ]
  },
  {
   "cell_type": "markdown",
   "metadata": {
    "colab_type": "text",
    "id": "6LvBPuhMXw69"
   },
   "source": [
    "Which 5 fans have attended the most games?"
   ]
  },
  {
   "cell_type": "code",
   "execution_count": 0,
   "metadata": {
    "colab": {
     "base_uri": "https://localhost:8080/",
     "height": 103
    },
    "colab_type": "code",
    "id": "Zkm3afwPYKm3",
    "outputId": "447aadcf-1caf-48af-a819-e042f87881f9"
   },
   "outputs": [
    {
     "name": "stdout",
     "output_type": "stream",
     "text": [
      "('Alex', 2)\n",
      "('Johnson', 1)\n",
      "('Maggie', 1)\n",
      "('Steve', 1)\n",
      "('Yaowen', 1)\n"
     ]
    }
   ],
   "source": [
    "cursor.execute('''select customer, count(transactionID) from transact group by customer limit 5''')\n",
    "for row in cursor.fetchall():\n",
    "  print (row)"
   ]
  },
  {
   "cell_type": "markdown",
   "metadata": {
    "colab_type": "text",
    "id": "-LdIDqbyepuv"
   },
   "source": [
    "This can be used for the club to find their most loyal fans and reward them. This allows the club to further incentivise their fans to attend more games during the season if they know they can recieve rewards. The output data recieved from the query was expected. The transaction table had 6 transactions where 4 customer have bought 1 ticket and 1 has bought 2."
   ]
  }
 ],
 "metadata": {
  "colab": {
   "collapsed_sections": [],
   "name": "IST210GroupProject4.ipynb",
   "provenance": []
  },
  "kernelspec": {
   "display_name": "Python 3",
   "language": "python",
   "name": "python3"
  },
  "language_info": {
   "codemirror_mode": {
    "name": "ipython",
    "version": 3
   },
   "file_extension": ".py",
   "mimetype": "text/x-python",
   "name": "python",
   "nbconvert_exporter": "python",
   "pygments_lexer": "ipython3",
   "version": "3.7.3"
  }
 },
 "nbformat": 4,
 "nbformat_minor": 1
}
